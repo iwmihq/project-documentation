{
  "nbformat": 4,
  "nbformat_minor": 0,
  "metadata": {
    "colab": {
      "provenance": [],
      "toc_visible": true
    },
    "kernelspec": {
      "name": "python3",
      "display_name": "Python 3"
    },
    "language_info": {
      "name": "python"
    }
  },
  "cells": [
    {
      "cell_type": "markdown",
      "source": [
        "### Importing Libraries"
      ],
      "metadata": {
        "id": "nPoiwLavuiof"
      }
    },
    {
      "cell_type": "code",
      "execution_count": null,
      "metadata": {
        "id": "r-Ns1j4juYnf"
      },
      "outputs": [],
      "source": [
        "import ee\n",
        "import geemap\n",
        "import calendar\n",
        "import requests\n",
        "import numpy as np\n",
        "import pandas as pd\n",
        "import seaborn as sns\n",
        "from PIL import Image\n",
        "from io import BytesIO\n",
        "import matplotlib.cm as cm\n",
        "import matplotlib.pyplot as plt\n",
        "import matplotlib.colors as mcolors"
      ]
    },
    {
      "cell_type": "markdown",
      "source": [
        "### Auth"
      ],
      "metadata": {
        "id": "zleXVQT_um0O"
      }
    },
    {
      "cell_type": "code",
      "source": [
        "ee.Authenticate()\n",
        "ee.Initialize(project='Add your project here')"
      ],
      "metadata": {
        "id": "SHRMir_4ubnk"
      },
      "execution_count": null,
      "outputs": []
    },
    {
      "cell_type": "code",
      "source": [
        "Map=geemap.Map()\n",
        "Map"
      ],
      "metadata": {
        "id": "6rON2j-Iubqt"
      },
      "execution_count": null,
      "outputs": []
    },
    {
      "cell_type": "code",
      "source": [
        "# Initialize the Earth Engine API\n",
        "ee.Initialize()\n",
        "\n",
        "# Define the region of interest (Pakistan boundary)\n",
        "pakistan = ee.FeatureCollection(\"FAO/GAUL/2015/level0\").filter(ee.Filter.eq('ADM0_NAME', 'Pakistan'))\n",
        "\n",
        "# Define the date range for GRACE data\n",
        "start_date = '2002-01-01'\n",
        "end_date = '2023-12-31'\n",
        "\n",
        "# Load GRACE Total Water Storage Anomaly dataset\n",
        "grace = ee.ImageCollection(\"NASA/GRACE/MASS_GRIDS/MASCON_CRI\")\n",
        "\n",
        "# Filter GRACE data for Pakistan and time range\n",
        "grace_filtered = grace.filterBounds(pakistan).filterDate(start_date, end_date)\n",
        "\n",
        "# Compute Mean TWS Anomaly (Select 'lwe_thickness' Band)\n",
        "grace_mean = grace_filtered.select('lwe_thickness').mean().clip(pakistan)\n",
        "\n",
        "# Visualization Parameters for GRACE TWS\n",
        "vis_params = {\n",
        "    \"min\": -50,\n",
        "    \"max\": 50,\n",
        "    \"palette\": [\"red\", \"yellow\", \"green\", \"blue\"]\n",
        "}\n",
        "\n",
        "# Create an interactive map using geemap\n",
        "Map = geemap.Map(center=[30.3753, 69.3451], zoom=5)\n",
        "Map.addLayer(grace_mean, vis_params, \"GRACE TWS Anomaly (2002-2023)\")\n",
        "Map.addLayer(pakistan, {}, \"Pakistan Boundary\")\n",
        "Map  # This displays the interactive map"
      ],
      "metadata": {
        "id": "12VMXFzXubtN"
      },
      "execution_count": null,
      "outputs": []
    },
    {
      "cell_type": "markdown",
      "source": [
        "### Monthly Mean TWS Anomaly Maps"
      ],
      "metadata": {
        "id": "we09kCWhuuzW"
      }
    },
    {
      "cell_type": "code",
      "source": [
        "year = 2020\n",
        "monthly_urls = []\n",
        "months = range(1, 13)\n",
        "\n",
        "for month in months:\n",
        "    start = ee.Date.fromYMD(year, month, 1)\n",
        "    end = start.advance(1, 'month')\n",
        "\n",
        "    # Filter the collection for the specific month and year\n",
        "    monthly_collection = grace_filtered.filterDate(start, end)\n",
        "\n",
        "    # Check if the collection is empty for this month\n",
        "    if monthly_collection.size().getInfo() > 0:\n",
        "        # If not empty, calculate the mean and select the band\n",
        "        monthly = monthly_collection.mean().select('lwe_thickness').clip(pakistan)\n",
        "    else:\n",
        "        # If empty, create an empty image with the desired band\n",
        "        monthly = ee.Image().rename(['lwe_thickness']).clip(pakistan)\n",
        "        # or handle it differently, e.g., skip this month or use a placeholder value\n",
        "\n",
        "    boundary = ee.Image().byte().paint(featureCollection=pakistan, color=0, width=2)\n",
        "\n",
        "    monthly_vis = monthly.visualize(**vis_params)\n",
        "    boundary_vis = boundary.visualize(**{'palette': ['black'], 'opacity': 1})\n",
        "    combined = monthly_vis.blend(boundary_vis)\n",
        "\n",
        "    thumb_params = {'dimensions': 500, 'region': pakistan.geometry().bounds().getInfo()}\n",
        "    url = combined.getThumbURL(thumb_params)\n",
        "    monthly_urls.append(url)\n",
        "\n",
        "# Plot Monthly TWS Anomaly Maps\n",
        "fig, axs = plt.subplots(3, 4, figsize=(15, 10))\n",
        "fig.suptitle(f'Monthly Mean GRACE TWS Anomaly for Pakistan ({year})', fontsize=16)\n",
        "\n",
        "for idx, url in enumerate(monthly_urls):\n",
        "    response = requests.get(url)\n",
        "    img = Image.open(BytesIO(response.content))\n",
        "\n",
        "    ax = axs[idx // 4, idx % 4]\n",
        "    ax.imshow(img)\n",
        "    ax.set_title(calendar.month_name[idx + 1])\n",
        "    ax.grid(True, linestyle='--', alpha=0.5)\n",
        "\n",
        "plt.tight_layout()\n",
        "plt.show()"
      ],
      "metadata": {
        "id": "fEleDxBQubv6"
      },
      "execution_count": null,
      "outputs": []
    },
    {
      "cell_type": "markdown",
      "source": [
        "### Compute Monthly Mean TWS Anomaly"
      ],
      "metadata": {
        "id": "x9zmKpH8u1Jf"
      }
    },
    {
      "cell_type": "code",
      "source": [
        "monthly_means = []\n",
        "years = list(range(2002, 2024))\n",
        "for year in years:\n",
        "    for month in months:\n",
        "        start = ee.Date.fromYMD(year, month, 1)\n",
        "        end = start.advance(1, 'month')\n",
        "\n",
        "        filtered_collection = grace_filtered.filterDate(start, end).select('lwe_thickness')\n",
        "\n",
        "        if filtered_collection.size().getInfo() > 0:\n",
        "            monthly = filtered_collection.mean().clip(pakistan)\n",
        "            mean_value = monthly.reduceRegion(ee.Reducer.mean(), pakistan, 1000).getInfo()\n",
        "            monthly_means.append([year, month, mean_value['lwe_thickness'] if mean_value else None])\n",
        "        else:\n",
        "            monthly_means.append([year, month, np.nan])\n",
        "\n",
        "# Convert to DataFrame\n",
        "df = pd.DataFrame(monthly_means, columns=['Year', 'Month', 'TWS_Anomaly'])\n",
        "df.dropna(inplace=True)\n",
        "\n",
        "# Time Series Plot\n",
        "plt.figure(figsize=(12, 5))\n",
        "sns.lineplot(x=df.index, y=df['TWS_Anomaly'], marker='o', color='b', linewidth=2)\n",
        "plt.title('Monthly Mean GRACE TWS Anomaly (2002-2023)')\n",
        "plt.xlabel('Time')\n",
        "plt.ylabel('TWS Anomaly (cm)')\n",
        "plt.grid(True, linestyle='--', alpha=0.5)\n",
        "plt.show()\n",
        "\n",
        "# Histogram of TWS Anomalies\n",
        "plt.figure(figsize=(8, 6))\n",
        "sns.histplot(df['TWS_Anomaly'], bins=30, kde=True, color='orange')\n",
        "plt.title('Histogram of GRACE TWS Anomalies')\n",
        "plt.xlabel('TWS Anomaly (cm)')\n",
        "plt.ylabel('Frequency')\n",
        "plt.grid(True, linestyle='--', alpha=0.5)\n",
        "plt.show()\n",
        "\n",
        "# Box Plot for Monthly TWS Variation\n",
        "plt.figure(figsize=(12, 6))\n",
        "sns.boxplot(x=df['Month'], y=df['TWS_Anomaly'], palette='coolwarm')\n",
        "plt.xticks(ticks=np.arange(12), labels=[calendar.month_abbr[i] for i in range(1, 13)])\n",
        "plt.title('Monthly Variation of GRACE TWS Anomaly')\n",
        "plt.xlabel('Month')\n",
        "plt.ylabel('TWS Anomaly (cm)')\n",
        "plt.grid(True, linestyle='--', alpha=0.5)\n",
        "plt.show()\n",
        "\n",
        "# KDE Plot\n",
        "plt.figure(figsize=(8, 6))\n",
        "sns.kdeplot(df['TWS_Anomaly'], shade=True, color='red')\n",
        "plt.title('Density Plot of GRACE TWS Anomaly')\n",
        "plt.xlabel('TWS Anomaly (cm)')\n",
        "plt.ylabel('Density')\n",
        "plt.grid(True, linestyle='--', alpha=0.5)\n",
        "plt.show()"
      ],
      "metadata": {
        "id": "uMkKgOhGubyq"
      },
      "execution_count": null,
      "outputs": []
    }
  ]
}